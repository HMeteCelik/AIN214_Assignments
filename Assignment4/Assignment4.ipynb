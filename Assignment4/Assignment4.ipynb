{
 "cells": [
  {
   "cell_type": "markdown",
   "id": "77dce0ea",
   "metadata": {},
   "source": [
    "\n",
    "\n",
    "Build **kNN** and **logistic regression** classifiers using sklearn library to predict \"passed\" (label variable) by using given data. \n",
    "- Start the project with data processing such as converting non-numeric values to numerical ones,  data normalization, etc.\n",
    "- Explore and analyze the data using feature visualization such as correlation heatmap, and distribution plots by commenting on your findings. Choose min. 3 features for the visualization step. \n",
    "- Then, shuffle and split your data into train and test sets randomly, with a ratio of 70:30. (Write your own shuffling and spliting code, do not use predefined function train_test_split).\n",
    "- Build your models (with proper comments and explanations) using the training set.\n",
    "- Compare these 2 classification models according to their accuracies (you can print accuracy values in a single table as a comprehensive view) over the test set. Comment on their classification performance.\n",
    "- Plot confusion matrices for your models over the test set, and comment on the outcomes. \n",
    "- Finally, plot Precision-Recall (PR) curves for each classification model over the test set and evaluate/comment the prediction performance of each classifier. \n",
    "\n",
    "Notes:\n",
    "\n",
    "* Choose the optimal k value using Minkowski distance (by trying two different p-values) for the kNN model.\n",
    "\n",
    "\n",
    "* **Don't forget to add comments to your code lines to explain how your program works, and your intentions behind it. Also, do not forget to comment on the outcomes and comparisons.** "
   ]
  },
  {
   "cell_type": "code",
   "execution_count": 1,
   "id": "7faacc05",
   "metadata": {},
   "outputs": [
    {
     "data": {
      "text/html": [
       "<div>\n",
       "<style scoped>\n",
       "    .dataframe tbody tr th:only-of-type {\n",
       "        vertical-align: middle;\n",
       "    }\n",
       "\n",
       "    .dataframe tbody tr th {\n",
       "        vertical-align: top;\n",
       "    }\n",
       "\n",
       "    .dataframe thead th {\n",
       "        text-align: right;\n",
       "    }\n",
       "</style>\n",
       "<table border=\"1\" class=\"dataframe\">\n",
       "  <thead>\n",
       "    <tr style=\"text-align: right;\">\n",
       "      <th></th>\n",
       "      <th>school</th>\n",
       "      <th>sex</th>\n",
       "      <th>age</th>\n",
       "      <th>address</th>\n",
       "      <th>famsize</th>\n",
       "      <th>Pstatus</th>\n",
       "      <th>Medu</th>\n",
       "      <th>Fedu</th>\n",
       "      <th>Mjob</th>\n",
       "      <th>Fjob</th>\n",
       "      <th>...</th>\n",
       "      <th>internet</th>\n",
       "      <th>romantic</th>\n",
       "      <th>famrel</th>\n",
       "      <th>freetime</th>\n",
       "      <th>goout</th>\n",
       "      <th>Dalc</th>\n",
       "      <th>Walc</th>\n",
       "      <th>health</th>\n",
       "      <th>absences</th>\n",
       "      <th>passed</th>\n",
       "    </tr>\n",
       "  </thead>\n",
       "  <tbody>\n",
       "    <tr>\n",
       "      <th>0</th>\n",
       "      <td>0</td>\n",
       "      <td>0</td>\n",
       "      <td>18</td>\n",
       "      <td>0</td>\n",
       "      <td>1</td>\n",
       "      <td>0</td>\n",
       "      <td>4</td>\n",
       "      <td>4</td>\n",
       "      <td>3</td>\n",
       "      <td>0</td>\n",
       "      <td>...</td>\n",
       "      <td>0</td>\n",
       "      <td>0</td>\n",
       "      <td>4</td>\n",
       "      <td>3</td>\n",
       "      <td>4</td>\n",
       "      <td>1</td>\n",
       "      <td>1</td>\n",
       "      <td>3</td>\n",
       "      <td>6</td>\n",
       "      <td>0</td>\n",
       "    </tr>\n",
       "    <tr>\n",
       "      <th>1</th>\n",
       "      <td>0</td>\n",
       "      <td>0</td>\n",
       "      <td>17</td>\n",
       "      <td>0</td>\n",
       "      <td>1</td>\n",
       "      <td>1</td>\n",
       "      <td>1</td>\n",
       "      <td>1</td>\n",
       "      <td>3</td>\n",
       "      <td>4</td>\n",
       "      <td>...</td>\n",
       "      <td>1</td>\n",
       "      <td>0</td>\n",
       "      <td>5</td>\n",
       "      <td>3</td>\n",
       "      <td>3</td>\n",
       "      <td>1</td>\n",
       "      <td>1</td>\n",
       "      <td>3</td>\n",
       "      <td>4</td>\n",
       "      <td>0</td>\n",
       "    </tr>\n",
       "    <tr>\n",
       "      <th>2</th>\n",
       "      <td>0</td>\n",
       "      <td>0</td>\n",
       "      <td>15</td>\n",
       "      <td>0</td>\n",
       "      <td>0</td>\n",
       "      <td>1</td>\n",
       "      <td>1</td>\n",
       "      <td>1</td>\n",
       "      <td>3</td>\n",
       "      <td>4</td>\n",
       "      <td>...</td>\n",
       "      <td>1</td>\n",
       "      <td>0</td>\n",
       "      <td>4</td>\n",
       "      <td>3</td>\n",
       "      <td>2</td>\n",
       "      <td>2</td>\n",
       "      <td>3</td>\n",
       "      <td>3</td>\n",
       "      <td>10</td>\n",
       "      <td>1</td>\n",
       "    </tr>\n",
       "    <tr>\n",
       "      <th>3</th>\n",
       "      <td>0</td>\n",
       "      <td>0</td>\n",
       "      <td>15</td>\n",
       "      <td>0</td>\n",
       "      <td>1</td>\n",
       "      <td>1</td>\n",
       "      <td>4</td>\n",
       "      <td>2</td>\n",
       "      <td>1</td>\n",
       "      <td>2</td>\n",
       "      <td>...</td>\n",
       "      <td>1</td>\n",
       "      <td>1</td>\n",
       "      <td>3</td>\n",
       "      <td>2</td>\n",
       "      <td>2</td>\n",
       "      <td>1</td>\n",
       "      <td>1</td>\n",
       "      <td>5</td>\n",
       "      <td>2</td>\n",
       "      <td>1</td>\n",
       "    </tr>\n",
       "    <tr>\n",
       "      <th>4</th>\n",
       "      <td>0</td>\n",
       "      <td>0</td>\n",
       "      <td>16</td>\n",
       "      <td>0</td>\n",
       "      <td>1</td>\n",
       "      <td>1</td>\n",
       "      <td>3</td>\n",
       "      <td>3</td>\n",
       "      <td>4</td>\n",
       "      <td>4</td>\n",
       "      <td>...</td>\n",
       "      <td>0</td>\n",
       "      <td>0</td>\n",
       "      <td>4</td>\n",
       "      <td>3</td>\n",
       "      <td>2</td>\n",
       "      <td>1</td>\n",
       "      <td>2</td>\n",
       "      <td>5</td>\n",
       "      <td>4</td>\n",
       "      <td>1</td>\n",
       "    </tr>\n",
       "    <tr>\n",
       "      <th>...</th>\n",
       "      <td>...</td>\n",
       "      <td>...</td>\n",
       "      <td>...</td>\n",
       "      <td>...</td>\n",
       "      <td>...</td>\n",
       "      <td>...</td>\n",
       "      <td>...</td>\n",
       "      <td>...</td>\n",
       "      <td>...</td>\n",
       "      <td>...</td>\n",
       "      <td>...</td>\n",
       "      <td>...</td>\n",
       "      <td>...</td>\n",
       "      <td>...</td>\n",
       "      <td>...</td>\n",
       "      <td>...</td>\n",
       "      <td>...</td>\n",
       "      <td>...</td>\n",
       "      <td>...</td>\n",
       "      <td>...</td>\n",
       "      <td>...</td>\n",
       "    </tr>\n",
       "    <tr>\n",
       "      <th>390</th>\n",
       "      <td>1</td>\n",
       "      <td>1</td>\n",
       "      <td>20</td>\n",
       "      <td>0</td>\n",
       "      <td>0</td>\n",
       "      <td>0</td>\n",
       "      <td>2</td>\n",
       "      <td>2</td>\n",
       "      <td>2</td>\n",
       "      <td>2</td>\n",
       "      <td>...</td>\n",
       "      <td>0</td>\n",
       "      <td>0</td>\n",
       "      <td>5</td>\n",
       "      <td>5</td>\n",
       "      <td>4</td>\n",
       "      <td>4</td>\n",
       "      <td>5</td>\n",
       "      <td>4</td>\n",
       "      <td>11</td>\n",
       "      <td>0</td>\n",
       "    </tr>\n",
       "    <tr>\n",
       "      <th>391</th>\n",
       "      <td>1</td>\n",
       "      <td>1</td>\n",
       "      <td>17</td>\n",
       "      <td>0</td>\n",
       "      <td>0</td>\n",
       "      <td>1</td>\n",
       "      <td>3</td>\n",
       "      <td>1</td>\n",
       "      <td>2</td>\n",
       "      <td>2</td>\n",
       "      <td>...</td>\n",
       "      <td>1</td>\n",
       "      <td>0</td>\n",
       "      <td>2</td>\n",
       "      <td>4</td>\n",
       "      <td>5</td>\n",
       "      <td>3</td>\n",
       "      <td>4</td>\n",
       "      <td>2</td>\n",
       "      <td>3</td>\n",
       "      <td>1</td>\n",
       "    </tr>\n",
       "    <tr>\n",
       "      <th>392</th>\n",
       "      <td>1</td>\n",
       "      <td>1</td>\n",
       "      <td>21</td>\n",
       "      <td>1</td>\n",
       "      <td>1</td>\n",
       "      <td>1</td>\n",
       "      <td>1</td>\n",
       "      <td>1</td>\n",
       "      <td>4</td>\n",
       "      <td>4</td>\n",
       "      <td>...</td>\n",
       "      <td>0</td>\n",
       "      <td>0</td>\n",
       "      <td>5</td>\n",
       "      <td>5</td>\n",
       "      <td>3</td>\n",
       "      <td>3</td>\n",
       "      <td>3</td>\n",
       "      <td>3</td>\n",
       "      <td>3</td>\n",
       "      <td>0</td>\n",
       "    </tr>\n",
       "    <tr>\n",
       "      <th>393</th>\n",
       "      <td>1</td>\n",
       "      <td>1</td>\n",
       "      <td>18</td>\n",
       "      <td>1</td>\n",
       "      <td>0</td>\n",
       "      <td>1</td>\n",
       "      <td>3</td>\n",
       "      <td>2</td>\n",
       "      <td>2</td>\n",
       "      <td>4</td>\n",
       "      <td>...</td>\n",
       "      <td>1</td>\n",
       "      <td>0</td>\n",
       "      <td>4</td>\n",
       "      <td>4</td>\n",
       "      <td>1</td>\n",
       "      <td>3</td>\n",
       "      <td>4</td>\n",
       "      <td>5</td>\n",
       "      <td>0</td>\n",
       "      <td>1</td>\n",
       "    </tr>\n",
       "    <tr>\n",
       "      <th>394</th>\n",
       "      <td>1</td>\n",
       "      <td>1</td>\n",
       "      <td>19</td>\n",
       "      <td>0</td>\n",
       "      <td>0</td>\n",
       "      <td>1</td>\n",
       "      <td>1</td>\n",
       "      <td>1</td>\n",
       "      <td>4</td>\n",
       "      <td>3</td>\n",
       "      <td>...</td>\n",
       "      <td>1</td>\n",
       "      <td>0</td>\n",
       "      <td>3</td>\n",
       "      <td>2</td>\n",
       "      <td>3</td>\n",
       "      <td>3</td>\n",
       "      <td>3</td>\n",
       "      <td>5</td>\n",
       "      <td>5</td>\n",
       "      <td>0</td>\n",
       "    </tr>\n",
       "  </tbody>\n",
       "</table>\n",
       "<p>395 rows × 31 columns</p>\n",
       "</div>"
      ],
      "text/plain": [
       "     school  sex  age  address  famsize  Pstatus  Medu  Fedu Mjob Fjob  ...  \\\n",
       "0         0    0   18        0        1        0     4     4    3    0  ...   \n",
       "1         0    0   17        0        1        1     1     1    3    4  ...   \n",
       "2         0    0   15        0        0        1     1     1    3    4  ...   \n",
       "3         0    0   15        0        1        1     4     2    1    2  ...   \n",
       "4         0    0   16        0        1        1     3     3    4    4  ...   \n",
       "..      ...  ...  ...      ...      ...      ...   ...   ...  ...  ...  ...   \n",
       "390       1    1   20        0        0        0     2     2    2    2  ...   \n",
       "391       1    1   17        0        0        1     3     1    2    2  ...   \n",
       "392       1    1   21        1        1        1     1     1    4    4  ...   \n",
       "393       1    1   18        1        0        1     3     2    2    4  ...   \n",
       "394       1    1   19        0        0        1     1     1    4    3  ...   \n",
       "\n",
       "    internet romantic  famrel  freetime  goout  Dalc  Walc  health  absences  \\\n",
       "0          0        0       4         3      4     1     1       3         6   \n",
       "1          1        0       5         3      3     1     1       3         4   \n",
       "2          1        0       4         3      2     2     3       3        10   \n",
       "3          1        1       3         2      2     1     1       5         2   \n",
       "4          0        0       4         3      2     1     2       5         4   \n",
       "..       ...      ...     ...       ...    ...   ...   ...     ...       ...   \n",
       "390        0        0       5         5      4     4     5       4        11   \n",
       "391        1        0       2         4      5     3     4       2         3   \n",
       "392        0        0       5         5      3     3     3       3         3   \n",
       "393        1        0       4         4      1     3     4       5         0   \n",
       "394        1        0       3         2      3     3     3       5         5   \n",
       "\n",
       "     passed  \n",
       "0         0  \n",
       "1         0  \n",
       "2         1  \n",
       "3         1  \n",
       "4         1  \n",
       "..      ...  \n",
       "390       0  \n",
       "391       1  \n",
       "392       0  \n",
       "393       1  \n",
       "394       0  \n",
       "\n",
       "[395 rows x 31 columns]"
      ]
     },
     "execution_count": 1,
     "metadata": {},
     "output_type": "execute_result"
    }
   ],
   "source": [
    "import pandas as pd\n",
    "import numpy as np\n",
    "import seaborn as sns\n",
    "import matplotlib.pyplot as plt\n",
    "data = pd.read_csv(\"data.csv\")\n",
    "data[\"school\"] = np.where(data[\"school\"]==\"GP\",0,1)   #Converting non-numeric values to numerical values by np.where() for binaries\n",
    "data[\"sex\"] = np.where(data[\"sex\"]==\"F\",0,1)\n",
    "data[\"address\"] = np.where(data[\"address\"]==\"U\",0,1)\n",
    "data[\"famsize\"] = np.where(data[\"famsize\"]==\"LE3\",0,1)\n",
    "data[\"Pstatus\"] = np.where(data[\"Pstatus\"]==\"A\",0,1)\n",
    "data[\"schoolsup\"] = np.where(data[\"schoolsup\"]==\"no\",0,1)\n",
    "data[\"famsup\"] = np.where(data[\"famsup\"]==\"no\",0,1)\n",
    "data[\"paid\"] = np.where(data[\"paid\"]==\"no\",0,1)\n",
    "data[\"activities\"] = np.where(data[\"activities\"]==\"no\",0,1)\n",
    "data[\"nursery\"] = np.where(data[\"nursery\"]==\"no\",0,1)\n",
    "data[\"higher\"] = np.where(data[\"higher\"]==\"no\",0,1)\n",
    "data[\"internet\"] = np.where(data[\"internet\"]==\"no\",0,1)\n",
    "data[\"romantic\"] = np.where(data[\"romantic\"]==\"no\",0,1)\n",
    "data[\"passed\"] = np.where(data[\"passed\"]==\"no\",0,1)\n",
    "data.loc[data[\"Mjob\"]==\"teacher\",\"Mjob\"] = 0         #Converting non-numeric values to numerical values by df.loc[] for nominals\n",
    "data.loc[data[\"Mjob\"]==\"health\",\"Mjob\"] = 1\n",
    "data.loc[data[\"Mjob\"]==\"services\",\"Mjob\"] = 2\n",
    "data.loc[data[\"Mjob\"]==\"at_home\",\"Mjob\"] = 3\n",
    "data.loc[data[\"Mjob\"]==\"other\",\"Mjob\"] = 4\n",
    "data.loc[data[\"Fjob\"]==\"teacher\",\"Fjob\"] = 0\n",
    "data.loc[data[\"Fjob\"]==\"health\",\"Fjob\"] = 1\n",
    "data.loc[data[\"Fjob\"]==\"services\",\"Fjob\"] = 2\n",
    "data.loc[data[\"Fjob\"]==\"at_home\",\"Fjob\"] = 3\n",
    "data.loc[data[\"Fjob\"]==\"other\",\"Fjob\"] = 4\n",
    "data.loc[data[\"reason\"]==\"home\",\"reason\"] = 0\n",
    "data.loc[data[\"reason\"]==\"reputation\",\"reason\"] = 1\n",
    "data.loc[data[\"reason\"]==\"course\",\"reason\"] = 2\n",
    "data.loc[data[\"reason\"]==\"other\",\"reason\"] = 3\n",
    "data.loc[data[\"guardian\"]==\"mother\",\"guardian\"] = 0\n",
    "data.loc[data[\"guardian\"]==\"father\",\"guardian\"] = 1\n",
    "data.loc[data[\"guardian\"]==\"other\",\"guardian\"] = 2\n",
    "data"
   ]
  },
  {
   "cell_type": "code",
   "execution_count": 2,
   "id": "0b38d206",
   "metadata": {},
   "outputs": [
    {
     "name": "stdout",
     "output_type": "stream",
     "text": [
      "There is more relationship between Fedu and Medu than other features\n"
     ]
    },
    {
     "data": {
      "image/png": "[encoded data removed]",
      "text/plain": [
       "<Figure size 432x288 with 2 Axes>"
      ]
     },
     "metadata": {
      "needs_background": "light"
     },
     "output_type": "display_data"
    }
   ],
   "source": [
    "print(\"There is more relationship between Fedu and Medu than other features\")\n",
    "sns.heatmap(data[[\"sex\",\"Fedu\",\"Medu\",\"freetime\",\"Walc\",\"health\"]].corr(), cmap=\"YlGnBu\")\n",
    "plt.show()"
   ]
  },
  {
   "cell_type": "code",
   "execution_count": 3,
   "id": "d0a674d4",
   "metadata": {},
   "outputs": [],
   "source": [
    "x_columns = data.loc[:,data.columns != \"passed\"].columns  #Shuffling values by sample df.sample().And splitting itt with 0.7(train) 0.3(test) ratio \n",
    "data_train = data.sample(frac=.7,random_state = 4) \n",
    "data_test = data.drop(data_train.index) \n",
    "x_train = data_train[x_columns] \n",
    "x_test = data_test[x_columns] \n",
    "y_train = data_train[\"passed\"] \n",
    "y_test = data_test[\"passed\"]"
   ]
  },
  {
   "cell_type": "code",
   "execution_count": 4,
   "id": "6ca4da3f",
   "metadata": {},
   "outputs": [
    {
     "name": "stdout",
     "output_type": "stream",
     "text": [
      "Best k value is 9\n"
     ]
    },
    {
     "data": {
      "image/png": "[encoded data removed]",
      "text/plain": [
       "<Figure size 432x288 with 1 Axes>"
      ]
     },
     "metadata": {
      "needs_background": "light"
     },
     "output_type": "display_data"
    }
   ],
   "source": [
    "##KNN Classifier\n",
    "from sklearn.neighbors import KNeighborsClassifier as KNN\n",
    "from sklearn.metrics import f1_score      #Building KNN model.Trying for k(0-30)\n",
    "clf = KNN()\n",
    "clf.fit(x_train,y_train)\n",
    "k = range(1,40)\n",
    "errorList = []\n",
    "scores = []\n",
    "for i in k:\n",
    "    clf = KNN(n_neighbors=i,metric=\"minkowski\")\n",
    "    clf.fit(x_train,y_train)\n",
    "    temp = clf.predict(x_test)\n",
    "    temp = f1_score(temp,y_test)\n",
    "    scores.append(temp)    #Adding all scores to list.Further I will compare with LogisticRegression score\n",
    "    error = 1 - temp\n",
    "    errorList.append(error)\n",
    "minError = min(errorList)\n",
    "minErrorK = errorList.index(min(errorList)) + 1\n",
    "plt.ylabel(\"Error\")\n",
    "plt.xlabel(\"K Neighbors\")\n",
    "plt.title(\"Change of Error by K\")\n",
    "plt.plot(k,errorList,marker=\"o\")\n",
    "plt.plot(minErrorK,minError,marker=\"o\",markerfacecolor=\"#000C1F\")\n",
    "print(\"Best k value is\",minErrorK)"
   ]
  },
  {
   "cell_type": "code",
   "execution_count": 5,
   "id": "f8856510",
   "metadata": {},
   "outputs": [
    {
     "data": {
      "text/plain": [
       "0.8465608465608465"
      ]
     },
     "execution_count": 5,
     "metadata": {},
     "output_type": "execute_result"
    }
   ],
   "source": [
    "clf = KNN(n_neighbors = minErrorK) #Trying KNN with best k values that I found above\n",
    "clf.fit(x_train,y_train)\n",
    "test_predict = clf.predict(x_test)\n",
    "f1_score(test_predict,y_test)"
   ]
  },
  {
   "cell_type": "code",
   "execution_count": 6,
   "id": "091d6f31",
   "metadata": {
    "scrolled": true
   },
   "outputs": [
    {
     "name": "stdout",
     "output_type": "stream",
     "text": [
      "              precision    recall  f1-score   support\n",
      "\n",
      "           0       0.50      0.47      0.48        32\n",
      "           1       0.81      0.83      0.82        87\n",
      "\n",
      "    accuracy                           0.73       119\n",
      "   macro avg       0.65      0.65      0.65       119\n",
      "weighted avg       0.73      0.73      0.73       119\n",
      "\n"
     ]
    }
   ],
   "source": [
    "##Logistic Regression\n",
    "import warnings\n",
    "warnings.filterwarnings('ignore')\n",
    "from sklearn.linear_model import LogisticRegression\n",
    "from sklearn.metrics import classification_report\n",
    "lr = LogisticRegression()\n",
    "lr.fit(data_train[x_columns],data_train[\"passed\"])\n",
    "from sklearn.model_selection import cross_val_score\n",
    "lr.fit(x_train,y_train)\n",
    "prediction = lr.predict(x_test)    #Making predictions with Logistic Regression and calculating accuracy\n",
    "print(classification_report(y_test,prediction))"
   ]
  },
  {
   "cell_type": "code",
   "execution_count": 7,
   "id": "58fbb08b",
   "metadata": {
    "scrolled": true
   },
   "outputs": [
    {
     "name": "stdout",
     "output_type": "stream",
     "text": [
      "KNN is more accurate than Logistic Regression\n"
     ]
    },
    {
     "data": {
      "image/png": "[encoded data removed]",
      "text/plain": [
       "<Figure size 432x288 with 1 Axes>"
      ]
     },
     "metadata": {
      "needs_background": "light"
     },
     "output_type": "display_data"
    }
   ],
   "source": [
    "from sklearn.metrics import accuracy_score\n",
    "newdata ={\"KNN\":[np.mean(scores)],\"Logistic Regression\":[accuracy_score(y_test,prediction)]}\n",
    "newdf = pd.DataFrame(newdata)\n",
    "newdf.plot(kind=\"bar\")\n",
    "print(\"KNN is more accurate than Logistic Regression\")"
   ]
  },
  {
   "cell_type": "code",
   "execution_count": 8,
   "id": "ed87ff3f",
   "metadata": {},
   "outputs": [
    {
     "data": {
      "image/png": "[encoded data removed]",
      "text/plain": [
       "<Figure size 432x288 with 2 Axes>"
      ]
     },
     "metadata": {
      "needs_background": "light"
     },
     "output_type": "display_data"
    },
    {
     "data": {
      "image/png": "[encoded data removed]",
      "text/plain": [
       "<Figure size 432x288 with 2 Axes>"
      ]
     },
     "metadata": {
      "needs_background": "light"
     },
     "output_type": "display_data"
    }
   ],
   "source": [
    "from sklearn.metrics import plot_confusion_matrix\n",
    "knnmatrix = plot_confusion_matrix(clf,x_test,y_test)   #Plotting confusion matrix for KNN.\n",
    "knnmatrix.ax_.set_title(\"Confusion Matrix For KNN\")\n",
    "lrmatrix = plot_confusion_matrix(lr,x_test,y_test)     #Plotting confusion matrix for Logistic Regression.\n",
    "lrmatrix.ax_.set_title(\"Confusion Matrix For Logistic Regression\")\n",
    "plt.show()"
   ]
  },
  {
   "cell_type": "code",
   "execution_count": 9,
   "id": "f43137cf",
   "metadata": {},
   "outputs": [
    {
     "data": {
      "image/png": "[encoded data removed]",
      "text/plain": [
       "<Figure size 432x288 with 1 Axes>"
      ]
     },
     "metadata": {
      "needs_background": "light"
     },
     "output_type": "display_data"
    },
    {
     "data": {
      "image/png": "[encoded data removed]",
      "text/plain": [
       "<Figure size 432x288 with 1 Axes>"
      ]
     },
     "metadata": {
      "needs_background": "light"
     },
     "output_type": "display_data"
    }
   ],
   "source": [
    "from sklearn.metrics import PrecisionRecallDisplay\n",
    "display = PrecisionRecallDisplay.from_estimator(lr, x_test, y_test, name=\"Logistic Regression Precision-Recall \")#Plotting PR curve for Logistic Regression\n",
    "display = PrecisionRecallDisplay.from_estimator(clf,x_test,y_test,name=\"KNN Precision-Recall  \")#Plotting PR curve for KNN"
   ]
  }
 ],
 "metadata": {
  "kernelspec": {
   "display_name": "Python 3 (ipykernel)",
   "language": "python",
   "name": "python3"
  },
  "language_info": {
   "codemirror_mode": {
    "name": "ipython",
    "version": 3
   },
   "file_extension": ".py",
   "mimetype": "text/x-python",
   "name": "python",
   "nbconvert_exporter": "python",
   "pygments_lexer": "ipython3",
   "version": "3.10.0"
  }
 },
 "nbformat": 4,
 "nbformat_minor": 5
}
